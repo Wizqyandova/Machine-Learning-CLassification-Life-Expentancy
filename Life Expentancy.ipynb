{
 "cells": [
  {
   "cell_type": "code",
   "execution_count": 1,
   "id": "f779d9f0-2934-4129-9982-e7803418ea58",
   "metadata": {},
   "outputs": [],
   "source": [
    "import pandas as pd\n",
    "import numpy as np\n",
    "import matplotlib.pyplot as plt\n",
    "import seaborn as sns"
   ]
  },
  {
   "cell_type": "code",
   "execution_count": 2,
   "id": "c6119672-d0bf-4b15-9f6d-ddfc7be8af66",
   "metadata": {},
   "outputs": [],
   "source": [
    "from sklearn.model_selection import train_test_split, GridSearchCV, KFold, RandomizedSearchCV"
   ]
  },
  {
   "cell_type": "code",
   "execution_count": 3,
   "id": "c6edbad5-852e-411d-b524-8f2bc5b42777",
   "metadata": {},
   "outputs": [],
   "source": [
    "from sklearn.ensemble import RandomForestClassifier, RandomForestRegressor, AdaBoostClassifier, AdaBoostRegressor, GradientBoostingClassifier, GradientBoostingRegressor"
   ]
  },
  {
   "cell_type": "code",
   "execution_count": 4,
   "id": "0dd50b86-7567-40b4-af0d-965d64a520df",
   "metadata": {},
   "outputs": [],
   "source": [
    "from xgboost import XGBClassifier, XGBRegressor"
   ]
  },
  {
   "cell_type": "code",
   "execution_count": 5,
   "id": "99edd725-a5ae-4561-8ca6-2827abb9aee1",
   "metadata": {},
   "outputs": [
    {
     "data": {
      "text/html": [
       "<div>\n",
       "<style scoped>\n",
       "    .dataframe tbody tr th:only-of-type {\n",
       "        vertical-align: middle;\n",
       "    }\n",
       "\n",
       "    .dataframe tbody tr th {\n",
       "        vertical-align: top;\n",
       "    }\n",
       "\n",
       "    .dataframe thead th {\n",
       "        text-align: right;\n",
       "    }\n",
       "</style>\n",
       "<table border=\"1\" class=\"dataframe\">\n",
       "  <thead>\n",
       "    <tr style=\"text-align: right;\">\n",
       "      <th></th>\n",
       "      <th>country</th>\n",
       "      <th>year</th>\n",
       "      <th>status</th>\n",
       "      <th>life_expectancy</th>\n",
       "      <th>adult_mortality</th>\n",
       "      <th>infant_deaths</th>\n",
       "      <th>alcohol</th>\n",
       "      <th>percentage_expenditure</th>\n",
       "      <th>HepB</th>\n",
       "      <th>measles</th>\n",
       "      <th>...</th>\n",
       "      <th>Polio</th>\n",
       "      <th>total_expenditure</th>\n",
       "      <th>DPT</th>\n",
       "      <th>HIV_AIDS</th>\n",
       "      <th>GDP</th>\n",
       "      <th>population</th>\n",
       "      <th>thinness_10_19</th>\n",
       "      <th>thinness_5_9</th>\n",
       "      <th>HDI</th>\n",
       "      <th>school_year</th>\n",
       "    </tr>\n",
       "  </thead>\n",
       "  <tbody>\n",
       "    <tr>\n",
       "      <th>0</th>\n",
       "      <td>Afghanistan</td>\n",
       "      <td>2015</td>\n",
       "      <td>Developing</td>\n",
       "      <td>65.0</td>\n",
       "      <td>263.0</td>\n",
       "      <td>62</td>\n",
       "      <td>0.01</td>\n",
       "      <td>71.279624</td>\n",
       "      <td>65.0</td>\n",
       "      <td>1154</td>\n",
       "      <td>...</td>\n",
       "      <td>6.0</td>\n",
       "      <td>8.16</td>\n",
       "      <td>65.0</td>\n",
       "      <td>0.1</td>\n",
       "      <td>584.259210</td>\n",
       "      <td>33736494.0</td>\n",
       "      <td>17.2</td>\n",
       "      <td>17.3</td>\n",
       "      <td>0.479</td>\n",
       "      <td>10.1</td>\n",
       "    </tr>\n",
       "    <tr>\n",
       "      <th>1</th>\n",
       "      <td>Afghanistan</td>\n",
       "      <td>2014</td>\n",
       "      <td>Developing</td>\n",
       "      <td>59.9</td>\n",
       "      <td>271.0</td>\n",
       "      <td>64</td>\n",
       "      <td>0.01</td>\n",
       "      <td>73.523582</td>\n",
       "      <td>62.0</td>\n",
       "      <td>492</td>\n",
       "      <td>...</td>\n",
       "      <td>58.0</td>\n",
       "      <td>8.18</td>\n",
       "      <td>62.0</td>\n",
       "      <td>0.1</td>\n",
       "      <td>612.696514</td>\n",
       "      <td>327582.0</td>\n",
       "      <td>17.5</td>\n",
       "      <td>17.5</td>\n",
       "      <td>0.476</td>\n",
       "      <td>10.0</td>\n",
       "    </tr>\n",
       "    <tr>\n",
       "      <th>2</th>\n",
       "      <td>Afghanistan</td>\n",
       "      <td>2013</td>\n",
       "      <td>Developing</td>\n",
       "      <td>59.9</td>\n",
       "      <td>268.0</td>\n",
       "      <td>66</td>\n",
       "      <td>0.01</td>\n",
       "      <td>73.219243</td>\n",
       "      <td>64.0</td>\n",
       "      <td>430</td>\n",
       "      <td>...</td>\n",
       "      <td>62.0</td>\n",
       "      <td>8.13</td>\n",
       "      <td>64.0</td>\n",
       "      <td>0.1</td>\n",
       "      <td>631.744976</td>\n",
       "      <td>31731688.0</td>\n",
       "      <td>17.7</td>\n",
       "      <td>17.7</td>\n",
       "      <td>0.470</td>\n",
       "      <td>9.9</td>\n",
       "    </tr>\n",
       "    <tr>\n",
       "      <th>3</th>\n",
       "      <td>Afghanistan</td>\n",
       "      <td>2012</td>\n",
       "      <td>Developing</td>\n",
       "      <td>59.5</td>\n",
       "      <td>272.0</td>\n",
       "      <td>69</td>\n",
       "      <td>0.01</td>\n",
       "      <td>78.184215</td>\n",
       "      <td>67.0</td>\n",
       "      <td>2787</td>\n",
       "      <td>...</td>\n",
       "      <td>67.0</td>\n",
       "      <td>8.52</td>\n",
       "      <td>67.0</td>\n",
       "      <td>0.1</td>\n",
       "      <td>669.959000</td>\n",
       "      <td>3696958.0</td>\n",
       "      <td>17.9</td>\n",
       "      <td>18.0</td>\n",
       "      <td>0.463</td>\n",
       "      <td>9.8</td>\n",
       "    </tr>\n",
       "    <tr>\n",
       "      <th>4</th>\n",
       "      <td>Afghanistan</td>\n",
       "      <td>2011</td>\n",
       "      <td>Developing</td>\n",
       "      <td>59.2</td>\n",
       "      <td>275.0</td>\n",
       "      <td>71</td>\n",
       "      <td>0.01</td>\n",
       "      <td>7.097109</td>\n",
       "      <td>68.0</td>\n",
       "      <td>3013</td>\n",
       "      <td>...</td>\n",
       "      <td>68.0</td>\n",
       "      <td>7.87</td>\n",
       "      <td>68.0</td>\n",
       "      <td>0.1</td>\n",
       "      <td>63.537231</td>\n",
       "      <td>2978599.0</td>\n",
       "      <td>18.2</td>\n",
       "      <td>18.2</td>\n",
       "      <td>0.454</td>\n",
       "      <td>9.5</td>\n",
       "    </tr>\n",
       "  </tbody>\n",
       "</table>\n",
       "<p>5 rows × 22 columns</p>\n",
       "</div>"
      ],
      "text/plain": [
       "       country  year      status  life_expectancy  adult_mortality  \\\n",
       "0  Afghanistan  2015  Developing             65.0            263.0   \n",
       "1  Afghanistan  2014  Developing             59.9            271.0   \n",
       "2  Afghanistan  2013  Developing             59.9            268.0   \n",
       "3  Afghanistan  2012  Developing             59.5            272.0   \n",
       "4  Afghanistan  2011  Developing             59.2            275.0   \n",
       "\n",
       "   infant_deaths  alcohol  percentage_expenditure  HepB  measles  ...  Polio  \\\n",
       "0             62     0.01               71.279624  65.0     1154  ...    6.0   \n",
       "1             64     0.01               73.523582  62.0      492  ...   58.0   \n",
       "2             66     0.01               73.219243  64.0      430  ...   62.0   \n",
       "3             69     0.01               78.184215  67.0     2787  ...   67.0   \n",
       "4             71     0.01                7.097109  68.0     3013  ...   68.0   \n",
       "\n",
       "   total_expenditure   DPT  HIV_AIDS         GDP  population  thinness_10_19  \\\n",
       "0               8.16  65.0       0.1  584.259210  33736494.0            17.2   \n",
       "1               8.18  62.0       0.1  612.696514    327582.0            17.5   \n",
       "2               8.13  64.0       0.1  631.744976  31731688.0            17.7   \n",
       "3               8.52  67.0       0.1  669.959000   3696958.0            17.9   \n",
       "4               7.87  68.0       0.1   63.537231   2978599.0            18.2   \n",
       "\n",
       "   thinness_5_9    HDI  school_year  \n",
       "0          17.3  0.479         10.1  \n",
       "1          17.5  0.476         10.0  \n",
       "2          17.7  0.470          9.9  \n",
       "3          18.0  0.463          9.8  \n",
       "4          18.2  0.454          9.5  \n",
       "\n",
       "[5 rows x 22 columns]"
      ]
     },
     "execution_count": 5,
     "metadata": {},
     "output_type": "execute_result"
    }
   ],
   "source": [
    "df = pd.read_csv('life_expectancy.csv')\n",
    "df.head()"
   ]
  },
  {
   "cell_type": "code",
   "execution_count": 6,
   "id": "f9171be2-e98e-40e7-8fec-d731445e2e78",
   "metadata": {},
   "outputs": [
    {
     "data": {
      "image/png": "[encoded data removed]",
      "text/plain": [
       "<Figure size 1080x576 with 1 Axes>"
      ]
     },
     "metadata": {
      "needs_background": "light"
     },
     "output_type": "display_data"
    }
   ],
   "source": [
    "plt.figure(figsize=(15,8))\n",
    "sns.heatmap(df.isna(), cmap='rainbow', cbar=False, yticklabels=False)\n",
    "plt.show()"
   ]
  },
  {
   "cell_type": "code",
   "execution_count": 7,
   "id": "a745721f-6499-4081-9eae-5097c12963cc",
   "metadata": {},
   "outputs": [
    {
     "data": {
      "text/plain": [
       "country                     0\n",
       "year                        0\n",
       "status                      0\n",
       "life_expectancy            10\n",
       "adult_mortality            10\n",
       "infant_deaths               0\n",
       "alcohol                   194\n",
       "percentage_expenditure      0\n",
       "HepB                      553\n",
       "measles                     0\n",
       "BMI                        34\n",
       "u5_deaths                   0\n",
       "Polio                      19\n",
       "total_expenditure         226\n",
       "DPT                        19\n",
       "HIV_AIDS                    0\n",
       "GDP                       448\n",
       "population                652\n",
       "thinness_10_19             34\n",
       "thinness_5_9               34\n",
       "HDI                       167\n",
       "school_year               163\n",
       "dtype: int64"
      ]
     },
     "execution_count": 7,
     "metadata": {},
     "output_type": "execute_result"
    }
   ],
   "source": [
    "df.isna().sum()"
   ]
  },
  {
   "cell_type": "code",
   "execution_count": 8,
   "id": "818e3194-310a-49a9-90b8-cd3a36962255",
   "metadata": {},
   "outputs": [],
   "source": [
    "df.dropna(inplace=True)"
   ]
  },
  {
   "cell_type": "code",
   "execution_count": 9,
   "id": "3bb4f711-e84a-4bbd-bcd6-1973b3b4188b",
   "metadata": {},
   "outputs": [
    {
     "data": {
      "text/plain": [
       "country                   0\n",
       "year                      0\n",
       "status                    0\n",
       "life_expectancy           0\n",
       "adult_mortality           0\n",
       "infant_deaths             0\n",
       "alcohol                   0\n",
       "percentage_expenditure    0\n",
       "HepB                      0\n",
       "measles                   0\n",
       "BMI                       0\n",
       "u5_deaths                 0\n",
       "Polio                     0\n",
       "total_expenditure         0\n",
       "DPT                       0\n",
       "HIV_AIDS                  0\n",
       "GDP                       0\n",
       "population                0\n",
       "thinness_10_19            0\n",
       "thinness_5_9              0\n",
       "HDI                       0\n",
       "school_year               0\n",
       "dtype: int64"
      ]
     },
     "execution_count": 9,
     "metadata": {},
     "output_type": "execute_result"
    }
   ],
   "source": [
    "df.isna().sum()"
   ]
  },
  {
   "cell_type": "code",
   "execution_count": 10,
   "id": "bdf27b33-ba3f-4f3c-9021-fec184571346",
   "metadata": {},
   "outputs": [
    {
     "data": {
      "text/plain": [
       "133"
      ]
     },
     "execution_count": 10,
     "metadata": {},
     "output_type": "execute_result"
    }
   ],
   "source": [
    "df['country'].nunique()"
   ]
  },
  {
   "cell_type": "code",
   "execution_count": 11,
   "id": "2149e55f-780e-4504-ab56-0628a7cd0dfa",
   "metadata": {},
   "outputs": [
    {
     "data": {
      "text/plain": [
       "array(['Developing', 'Developed'], dtype=object)"
      ]
     },
     "execution_count": 11,
     "metadata": {},
     "output_type": "execute_result"
    }
   ],
   "source": [
    "df['status'].unique()"
   ]
  },
  {
   "cell_type": "code",
   "execution_count": 12,
   "id": "d41f79cd-66fe-476f-b870-216a030353fc",
   "metadata": {},
   "outputs": [],
   "source": [
    "df['status'] = df['status'].map({'Developing' : 0, 'Developed' : 1})"
   ]
  },
  {
   "cell_type": "code",
   "execution_count": 13,
   "id": "7fdb9731-6f27-4f3c-9897-fdae646f9b7c",
   "metadata": {},
   "outputs": [],
   "source": [
    "df = pd.get_dummies(df, columns=['country'])"
   ]
  },
  {
   "cell_type": "code",
   "execution_count": 14,
   "id": "d01160c3-a193-4002-b100-8b43633c30df",
   "metadata": {},
   "outputs": [],
   "source": [
    "### Train Test Split"
   ]
  },
  {
   "cell_type": "code",
   "execution_count": 15,
   "id": "1632c3a0-41f5-4a13-af7f-97fb56fae638",
   "metadata": {},
   "outputs": [
    {
     "data": {
      "text/html": [
       "<div>\n",
       "<style scoped>\n",
       "    .dataframe tbody tr th:only-of-type {\n",
       "        vertical-align: middle;\n",
       "    }\n",
       "\n",
       "    .dataframe tbody tr th {\n",
       "        vertical-align: top;\n",
       "    }\n",
       "\n",
       "    .dataframe thead th {\n",
       "        text-align: right;\n",
       "    }\n",
       "</style>\n",
       "<table border=\"1\" class=\"dataframe\">\n",
       "  <thead>\n",
       "    <tr style=\"text-align: right;\">\n",
       "      <th></th>\n",
       "      <th>year</th>\n",
       "      <th>status</th>\n",
       "      <th>life_expectancy</th>\n",
       "      <th>adult_mortality</th>\n",
       "      <th>infant_deaths</th>\n",
       "      <th>alcohol</th>\n",
       "      <th>percentage_expenditure</th>\n",
       "      <th>HepB</th>\n",
       "      <th>measles</th>\n",
       "      <th>BMI</th>\n",
       "      <th>...</th>\n",
       "      <th>country_Tunisia</th>\n",
       "      <th>country_Turkey</th>\n",
       "      <th>country_Turkmenistan</th>\n",
       "      <th>country_Uganda</th>\n",
       "      <th>country_Ukraine</th>\n",
       "      <th>country_Uruguay</th>\n",
       "      <th>country_Uzbekistan</th>\n",
       "      <th>country_Vanuatu</th>\n",
       "      <th>country_Zambia</th>\n",
       "      <th>country_Zimbabwe</th>\n",
       "    </tr>\n",
       "  </thead>\n",
       "  <tbody>\n",
       "    <tr>\n",
       "      <th>0</th>\n",
       "      <td>2015</td>\n",
       "      <td>0</td>\n",
       "      <td>65.0</td>\n",
       "      <td>263.0</td>\n",
       "      <td>62</td>\n",
       "      <td>0.01</td>\n",
       "      <td>71.279624</td>\n",
       "      <td>65.0</td>\n",
       "      <td>1154</td>\n",
       "      <td>19.1</td>\n",
       "      <td>...</td>\n",
       "      <td>0</td>\n",
       "      <td>0</td>\n",
       "      <td>0</td>\n",
       "      <td>0</td>\n",
       "      <td>0</td>\n",
       "      <td>0</td>\n",
       "      <td>0</td>\n",
       "      <td>0</td>\n",
       "      <td>0</td>\n",
       "      <td>0</td>\n",
       "    </tr>\n",
       "    <tr>\n",
       "      <th>1</th>\n",
       "      <td>2014</td>\n",
       "      <td>0</td>\n",
       "      <td>59.9</td>\n",
       "      <td>271.0</td>\n",
       "      <td>64</td>\n",
       "      <td>0.01</td>\n",
       "      <td>73.523582</td>\n",
       "      <td>62.0</td>\n",
       "      <td>492</td>\n",
       "      <td>18.6</td>\n",
       "      <td>...</td>\n",
       "      <td>0</td>\n",
       "      <td>0</td>\n",
       "      <td>0</td>\n",
       "      <td>0</td>\n",
       "      <td>0</td>\n",
       "      <td>0</td>\n",
       "      <td>0</td>\n",
       "      <td>0</td>\n",
       "      <td>0</td>\n",
       "      <td>0</td>\n",
       "    </tr>\n",
       "    <tr>\n",
       "      <th>2</th>\n",
       "      <td>2013</td>\n",
       "      <td>0</td>\n",
       "      <td>59.9</td>\n",
       "      <td>268.0</td>\n",
       "      <td>66</td>\n",
       "      <td>0.01</td>\n",
       "      <td>73.219243</td>\n",
       "      <td>64.0</td>\n",
       "      <td>430</td>\n",
       "      <td>18.1</td>\n",
       "      <td>...</td>\n",
       "      <td>0</td>\n",
       "      <td>0</td>\n",
       "      <td>0</td>\n",
       "      <td>0</td>\n",
       "      <td>0</td>\n",
       "      <td>0</td>\n",
       "      <td>0</td>\n",
       "      <td>0</td>\n",
       "      <td>0</td>\n",
       "      <td>0</td>\n",
       "    </tr>\n",
       "    <tr>\n",
       "      <th>3</th>\n",
       "      <td>2012</td>\n",
       "      <td>0</td>\n",
       "      <td>59.5</td>\n",
       "      <td>272.0</td>\n",
       "      <td>69</td>\n",
       "      <td>0.01</td>\n",
       "      <td>78.184215</td>\n",
       "      <td>67.0</td>\n",
       "      <td>2787</td>\n",
       "      <td>17.6</td>\n",
       "      <td>...</td>\n",
       "      <td>0</td>\n",
       "      <td>0</td>\n",
       "      <td>0</td>\n",
       "      <td>0</td>\n",
       "      <td>0</td>\n",
       "      <td>0</td>\n",
       "      <td>0</td>\n",
       "      <td>0</td>\n",
       "      <td>0</td>\n",
       "      <td>0</td>\n",
       "    </tr>\n",
       "    <tr>\n",
       "      <th>4</th>\n",
       "      <td>2011</td>\n",
       "      <td>0</td>\n",
       "      <td>59.2</td>\n",
       "      <td>275.0</td>\n",
       "      <td>71</td>\n",
       "      <td>0.01</td>\n",
       "      <td>7.097109</td>\n",
       "      <td>68.0</td>\n",
       "      <td>3013</td>\n",
       "      <td>17.2</td>\n",
       "      <td>...</td>\n",
       "      <td>0</td>\n",
       "      <td>0</td>\n",
       "      <td>0</td>\n",
       "      <td>0</td>\n",
       "      <td>0</td>\n",
       "      <td>0</td>\n",
       "      <td>0</td>\n",
       "      <td>0</td>\n",
       "      <td>0</td>\n",
       "      <td>0</td>\n",
       "    </tr>\n",
       "  </tbody>\n",
       "</table>\n",
       "<p>5 rows × 154 columns</p>\n",
       "</div>"
      ],
      "text/plain": [
       "   year  status  life_expectancy  adult_mortality  infant_deaths  alcohol  \\\n",
       "0  2015       0             65.0            263.0             62     0.01   \n",
       "1  2014       0             59.9            271.0             64     0.01   \n",
       "2  2013       0             59.9            268.0             66     0.01   \n",
       "3  2012       0             59.5            272.0             69     0.01   \n",
       "4  2011       0             59.2            275.0             71     0.01   \n",
       "\n",
       "   percentage_expenditure  HepB  measles   BMI  ...  country_Tunisia  \\\n",
       "0               71.279624  65.0     1154  19.1  ...                0   \n",
       "1               73.523582  62.0      492  18.6  ...                0   \n",
       "2               73.219243  64.0      430  18.1  ...                0   \n",
       "3               78.184215  67.0     2787  17.6  ...                0   \n",
       "4                7.097109  68.0     3013  17.2  ...                0   \n",
       "\n",
       "   country_Turkey  country_Turkmenistan  country_Uganda  country_Ukraine  \\\n",
       "0               0                     0               0                0   \n",
       "1               0                     0               0                0   \n",
       "2               0                     0               0                0   \n",
       "3               0                     0               0                0   \n",
       "4               0                     0               0                0   \n",
       "\n",
       "   country_Uruguay  country_Uzbekistan  country_Vanuatu  country_Zambia  \\\n",
       "0                0                   0                0               0   \n",
       "1                0                   0                0               0   \n",
       "2                0                   0                0               0   \n",
       "3                0                   0                0               0   \n",
       "4                0                   0                0               0   \n",
       "\n",
       "   country_Zimbabwe  \n",
       "0                 0  \n",
       "1                 0  \n",
       "2                 0  \n",
       "3                 0  \n",
       "4                 0  \n",
       "\n",
       "[5 rows x 154 columns]"
      ]
     },
     "execution_count": 15,
     "metadata": {},
     "output_type": "execute_result"
    }
   ],
   "source": [
    "df.head()"
   ]
  },
  {
   "cell_type": "code",
   "execution_count": 16,
   "id": "d531ba61-2bee-4802-b168-60a80127f12e",
   "metadata": {},
   "outputs": [],
   "source": [
    "X = df.drop(columns='life_expectancy')\n",
    "y = df['life_expectancy']"
   ]
  },
  {
   "cell_type": "code",
   "execution_count": 17,
   "id": "de8db1cd-c982-4b51-87b7-b6909246c87b",
   "metadata": {},
   "outputs": [],
   "source": [
    "kf = KFold(n_splits=4)"
   ]
  },
  {
   "cell_type": "code",
   "execution_count": 18,
   "id": "b8de7748-e1cc-4f82-9877-fb28165a9e67",
   "metadata": {},
   "outputs": [],
   "source": [
    "X_train, X_test, y_train, y_test = train_test_split(X, y, test_size = .2, random_state= 69)"
   ]
  },
  {
   "cell_type": "code",
   "execution_count": 19,
   "id": "ff78cd79-0d40-4c48-8cb3-5fb2bc3c05c9",
   "metadata": {},
   "outputs": [],
   "source": [
    "## Base Model"
   ]
  },
  {
   "cell_type": "code",
   "execution_count": 20,
   "id": "4a6929fe-032a-4161-994d-6b351faf6e5c",
   "metadata": {},
   "outputs": [],
   "source": [
    "from sklearn.metrics import r2_score, mean_absolute_error, mean_squared_error"
   ]
  },
  {
   "cell_type": "code",
   "execution_count": 21,
   "id": "f80eb643-3933-4353-9092-c857a06fe6df",
   "metadata": {},
   "outputs": [],
   "source": [
    "## XGB"
   ]
  },
  {
   "cell_type": "code",
   "execution_count": 22,
   "id": "39435315-9ba0-4348-ab78-a47290cbab75",
   "metadata": {},
   "outputs": [],
   "source": [
    "base_XGB = XGBRegressor()"
   ]
  },
  {
   "cell_type": "code",
   "execution_count": 23,
   "id": "2f5aa8b2-1d06-44d4-a54a-264f31e098b0",
   "metadata": {},
   "outputs": [
    {
     "data": {
      "text/plain": [
       "XGBRegressor(base_score=0.5, booster='gbtree', callbacks=None,\n",
       "             colsample_bylevel=1, colsample_bynode=1, colsample_bytree=1,\n",
       "             early_stopping_rounds=None, enable_categorical=False,\n",
       "             eval_metric=None, gamma=0, gpu_id=-1, grow_policy='depthwise',\n",
       "             importance_type=None, interaction_constraints='',\n",
       "             learning_rate=0.300000012, max_bin=256, max_cat_to_onehot=4,\n",
       "             max_delta_step=0, max_depth=6, max_leaves=0, min_child_weight=1,\n",
       "             missing=nan, monotone_constraints='()', n_estimators=100, n_jobs=0,\n",
       "             num_parallel_tree=1, predictor='auto', random_state=0, reg_alpha=0,\n",
       "             reg_lambda=1, ...)"
      ]
     },
     "execution_count": 23,
     "metadata": {},
     "output_type": "execute_result"
    }
   ],
   "source": [
    "base_XGB.fit(X_train, y_train)"
   ]
  },
  {
   "cell_type": "code",
   "execution_count": 24,
   "id": "c0821962-ccd0-4f1c-8c8b-21227b054aee",
   "metadata": {},
   "outputs": [],
   "source": [
    "y_baseXGB = base_XGB.predict(X_test)"
   ]
  },
  {
   "cell_type": "code",
   "execution_count": 25,
   "id": "226986d9-cbf9-494c-9b04-0c335be30bee",
   "metadata": {},
   "outputs": [
    {
     "data": {
      "text/plain": [
       "0.9613435508239748"
      ]
     },
     "execution_count": 25,
     "metadata": {},
     "output_type": "execute_result"
    }
   ],
   "source": [
    "r2_score(y_test, y_baseXGB)"
   ]
  },
  {
   "cell_type": "code",
   "execution_count": 26,
   "id": "d5870658-d5d4-4f0e-a264-d537ec424cff",
   "metadata": {},
   "outputs": [],
   "source": [
    "base_RF = RandomForestRegressor()"
   ]
  },
  {
   "cell_type": "code",
   "execution_count": 27,
   "id": "ddbff6ff-05ac-470f-8f76-1f4c2385f76f",
   "metadata": {},
   "outputs": [
    {
     "data": {
      "text/plain": [
       "RandomForestRegressor()"
      ]
     },
     "execution_count": 27,
     "metadata": {},
     "output_type": "execute_result"
    }
   ],
   "source": [
    "base_RF.fit(X_train, y_train)"
   ]
  },
  {
   "cell_type": "code",
   "execution_count": 28,
   "id": "356cb85b-82e6-46f3-8780-b67398086bb1",
   "metadata": {},
   "outputs": [],
   "source": [
    "y_baseRF = base_RF.predict(X_test)"
   ]
  },
  {
   "cell_type": "code",
   "execution_count": 29,
   "id": "ee25fd46-996d-417d-aea1-c6ec64e31020",
   "metadata": {},
   "outputs": [
    {
     "data": {
      "text/plain": [
       "0.964186829361659"
      ]
     },
     "execution_count": 29,
     "metadata": {},
     "output_type": "execute_result"
    }
   ],
   "source": [
    "r2_score(y_test, y_baseRF)"
   ]
  },
  {
   "cell_type": "code",
   "execution_count": 30,
   "id": "a1b0d5e1-e69c-46aa-82bd-deb747b8f290",
   "metadata": {},
   "outputs": [],
   "source": [
    "from sklearn.linear_model import LinearRegression"
   ]
  },
  {
   "cell_type": "code",
   "execution_count": 31,
   "id": "8230b532-95c6-4b83-b5a5-87f49c18272e",
   "metadata": {},
   "outputs": [],
   "source": [
    "Lin = LinearRegression()"
   ]
  },
  {
   "cell_type": "code",
   "execution_count": 32,
   "id": "8d3f9e19-f731-46d2-b47c-9f0c57d64b0b",
   "metadata": {},
   "outputs": [
    {
     "data": {
      "text/plain": [
       "LinearRegression()"
      ]
     },
     "execution_count": 32,
     "metadata": {},
     "output_type": "execute_result"
    }
   ],
   "source": [
    "Lin.fit(X_train, y_train)"
   ]
  },
  {
   "cell_type": "code",
   "execution_count": 33,
   "id": "2ec10fd6-9571-4084-a447-a258c7b2b4be",
   "metadata": {},
   "outputs": [],
   "source": [
    "y_lin = Lin.predict(X_test)"
   ]
  },
  {
   "cell_type": "code",
   "execution_count": 34,
   "id": "aa5311e2-4293-4684-a57f-2877a92b713c",
   "metadata": {},
   "outputs": [
    {
     "data": {
      "text/plain": [
       "0.962763649173143"
      ]
     },
     "execution_count": 34,
     "metadata": {},
     "output_type": "execute_result"
    }
   ],
   "source": [
    "r2_score(y_test, y_lin)"
   ]
  },
  {
   "cell_type": "code",
   "execution_count": 35,
   "id": "df5914d8-b3b0-4463-94fe-d86578745be8",
   "metadata": {},
   "outputs": [],
   "source": [
    "param_XGB = {\n",
    "    'n_estimators' : np.arange(100, 401, 100),\n",
    "    'max_depth' : np.arange(1, 6),\n",
    "    'learning_rate' : np.logspace(-3, 0, 4),\n",
    "    'gamma' : np.logspace(-3, 2, 6),\n",
    "    'colsample_bytree' : [0.3, 0.5, 0.7, 0.8],\n",
    "    'subsample' : [0.3, 0.5, 0.7, 0.8],\n",
    "    'reg_alpha' : np.logspace(-3, 3, 7),\n",
    "    'reg_lambda' : np.logspace(-3, 3, 7)\n",
    "}"
   ]
  },
  {
   "cell_type": "code",
   "execution_count": 36,
   "id": "478a0b7d-7cae-4db5-b1da-8e4f4072478a",
   "metadata": {},
   "outputs": [],
   "source": [
    "model_XGB = XGBRegressor()"
   ]
  },
  {
   "cell_type": "code",
   "execution_count": 37,
   "id": "ab16ac10-dc5e-4c08-8f66-2b9ff705caeb",
   "metadata": {},
   "outputs": [],
   "source": [
    "RS_XGB = RandomizedSearchCV(model_XGB, param_XGB, n_iter = 25, scoring='r2', verbose=1, n_jobs=-1, cv = kf, random_state=69)"
   ]
  },
  {
   "cell_type": "code",
   "execution_count": 38,
   "id": "ad8dc3a4-7fe8-4880-8b33-28aa3043da53",
   "metadata": {},
   "outputs": [
    {
     "name": "stdout",
     "output_type": "stream",
     "text": [
      "Fitting 4 folds for each of 25 candidates, totalling 100 fits\n"
     ]
    },
    {
     "data": {
      "text/plain": [
       "RandomizedSearchCV(cv=KFold(n_splits=4, random_state=None, shuffle=False),\n",
       "                   estimator=XGBRegressor(base_score=None, booster=None,\n",
       "                                          callbacks=None,\n",
       "                                          colsample_bylevel=None,\n",
       "                                          colsample_bynode=None,\n",
       "                                          colsample_bytree=None,\n",
       "                                          early_stopping_rounds=None,\n",
       "                                          enable_categorical=False,\n",
       "                                          eval_metric=None, gamma=None,\n",
       "                                          gpu_id=None, grow_policy=None,\n",
       "                                          importance_type=None,\n",
       "                                          interaction_co...\n",
       "                                        'gamma': array([1.e-03, 1.e-02, 1.e-01, 1.e+00, 1.e+01, 1.e+02]),\n",
       "                                        'learning_rate': array([0.001, 0.01 , 0.1  , 1.   ]),\n",
       "                                        'max_depth': array([1, 2, 3, 4, 5]),\n",
       "                                        'n_estimators': array([100, 200, 300, 400]),\n",
       "                                        'reg_alpha': array([1.e-03, 1.e-02, 1.e-01, 1.e+00, 1.e+01, 1.e+02, 1.e+03]),\n",
       "                                        'reg_lambda': array([1.e-03, 1.e-02, 1.e-01, 1.e+00, 1.e+01, 1.e+02, 1.e+03]),\n",
       "                                        'subsample': [0.3, 0.5, 0.7, 0.8]},\n",
       "                   random_state=69, scoring='r2', verbose=1)"
      ]
     },
     "execution_count": 38,
     "metadata": {},
     "output_type": "execute_result"
    }
   ],
   "source": [
    "RS_XGB.fit(X_train, y_train)"
   ]
  },
  {
   "cell_type": "code",
   "execution_count": 39,
   "id": "83fafad0-2c6b-4b92-8c7d-c6672bf02196",
   "metadata": {},
   "outputs": [],
   "source": [
    "XGB_Tuned = RS_XGB.best_estimator_"
   ]
  },
  {
   "cell_type": "code",
   "execution_count": 40,
   "id": "751dfbc5-55e9-4dcf-b887-7c5871675be1",
   "metadata": {},
   "outputs": [],
   "source": [
    "y_xgb = XGB_Tuned.predict(X_test)"
   ]
  },
  {
   "cell_type": "code",
   "execution_count": 41,
   "id": "950e96f5-d5f6-4178-8609-7914980f79d9",
   "metadata": {},
   "outputs": [
    {
     "data": {
      "text/plain": [
       "0.9631142999489395"
      ]
     },
     "execution_count": 41,
     "metadata": {},
     "output_type": "execute_result"
    }
   ],
   "source": [
    "r2_score(y_test, y_xgb)"
   ]
  },
  {
   "cell_type": "code",
   "execution_count": 42,
   "id": "41260d39-bfc1-4683-b53d-30143fb61132",
   "metadata": {},
   "outputs": [],
   "source": [
    "GS_XGB = GridSearchCV(model_XGB, param_XGB, cv = kf, verbose=1, n_jobs=-1)"
   ]
  }
 ],
 "metadata": {
  "kernelspec": {
   "display_name": "Python 3 (ipykernel)",
   "language": "python",
   "name": "python3"
  },
  "language_info": {
   "codemirror_mode": {
    "name": "ipython",
    "version": 3
   },
   "file_extension": ".py",
   "mimetype": "text/x-python",
   "name": "python",
   "nbconvert_exporter": "python",
   "pygments_lexer": "ipython3",
   "version": "3.9.7"
  }
 },
 "nbformat": 4,
 "nbformat_minor": 5
}
